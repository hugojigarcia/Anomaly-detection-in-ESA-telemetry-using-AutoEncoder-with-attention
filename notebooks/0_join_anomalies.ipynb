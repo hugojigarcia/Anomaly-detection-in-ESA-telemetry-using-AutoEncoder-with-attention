{
 "cells": [
  {
   "cell_type": "markdown",
   "metadata": {},
   "source": [
    "# JOIN ANOMALIES\n",
    "Notebook para poner juntar los dos CSVs de la ESA que contienen los datos de las anomalías identificadas en un único CSV."
   ]
  },
  {
   "cell_type": "code",
   "execution_count": null,
   "metadata": {},
   "outputs": [],
   "source": [
    "import pandas as pd"
   ]
  },
  {
   "cell_type": "code",
   "execution_count": null,
   "metadata": {},
   "outputs": [],
   "source": [
    "ANOMALY_TYPES_PATH = \"../data/Mission2-ESA/anomaly_types.csv\"\n",
    "LABELS_PATH = \"../data/Mission2-ESA/labels.csv\"\n",
    "OUTPUT_PATH = \"../esa-anomalies/anomalies_mission2.csv\""
   ]
  },
  {
   "cell_type": "code",
   "execution_count": null,
   "metadata": {},
   "outputs": [],
   "source": [
    "# Load the CSV files\n",
    "anomaly_types = pd.read_csv(ANOMALY_TYPES_PATH)\n",
    "labels = pd.read_csv(LABELS_PATH)\n",
    "\n",
    "# Convert StartTime and EndTime to datetime format\n",
    "labels['StartTime'] = pd.to_datetime(labels['StartTime'])\n",
    "labels['EndTime'] = pd.to_datetime(labels['EndTime'])\n",
    "\n",
    "# Merge the two dataframes on the 'ID' column\n",
    "merged_df = pd.merge(labels, anomaly_types, on='ID', how='inner')\n",
    "\n",
    "# Calculate the 'duration' column\n",
    "merged_df['duration'] = merged_df['EndTime'] - merged_df['StartTime']\n",
    "\n",
    "# Reorder columns as specified\n",
    "result_df = merged_df[['ID', 'Channel', 'StartTime', 'EndTime', 'duration', \n",
    "                       'Class', 'Subclass', 'Category', 'Dimensionality', 'Locality', 'Length']]\n",
    "\n",
    "# Save the resulting dataframe to a new CSV\n",
    "result_df.to_csv(OUTPUT_PATH, index=False)\n",
    "result_df"
   ]
  }
 ],
 "metadata": {
  "kernelspec": {
   "display_name": "venv",
   "language": "python",
   "name": "python3"
  },
  "language_info": {
   "codemirror_mode": {
    "name": "ipython",
    "version": 3
   },
   "file_extension": ".py",
   "mimetype": "text/x-python",
   "name": "python",
   "nbconvert_exporter": "python",
   "pygments_lexer": "ipython3",
   "version": "3.10.11"
  }
 },
 "nbformat": 4,
 "nbformat_minor": 2
}
