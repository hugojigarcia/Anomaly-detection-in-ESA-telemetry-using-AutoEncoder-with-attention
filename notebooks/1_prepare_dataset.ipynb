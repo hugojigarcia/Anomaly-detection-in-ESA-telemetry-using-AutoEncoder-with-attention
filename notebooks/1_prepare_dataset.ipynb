{
 "cells": [
  {
   "cell_type": "markdown",
   "metadata": {},
   "source": [
    "# PREPARE DATASET\n",
    "Notebook para poner juntar los datos de todas los canales en un único CSV."
   ]
  },
  {
   "cell_type": "code",
   "execution_count": 40,
   "metadata": {},
   "outputs": [],
   "source": [
    "import pandas as pd\n",
    "import os\n",
    "import re"
   ]
  },
  {
   "cell_type": "code",
   "execution_count": 41,
   "metadata": {},
   "outputs": [],
   "source": [
    "MISSION = 2\n",
    "YEAR = 2000\n",
    "CHANNELS = [\"allchannels\", \"subset\", \"target\"][2]\n",
    "FIRST_CHANNEL_NUMBER = 18  # Only if CHANNELS == \"subset\"\n",
    "LAST_CHANNEL_NUMBER = 28  # Only if CHANNELS == \"subset\"\n",
    "\n",
    "DATA_PATH = \"../data/Mission2-ESA/channels\"\n",
    "CHANNELS_LIST_PATH = \"../data/Mission2-ESA/channels.csv\""
   ]
  },
  {
   "cell_type": "code",
   "execution_count": 42,
   "metadata": {},
   "outputs": [],
   "source": [
    "start_date = f\"{YEAR}-01-01 00:00:00\"\n",
    "end_date = f\"{YEAR+1}-01-01 00:00:00\"\n",
    "\n",
    "if CHANNELS == \"target\":\n",
    "    channels_info = pd.read_csv(CHANNELS_LIST_PATH)\n",
    "    channels_list = list(channels_info[channels_info['Target']==\"YES\"]['Channel'])\n",
    "else:\n",
    "    channels_list = None if CHANNELS == \"allchannels\" else [f\"channel_{i}\" for i in range(FIRST_CHANNEL_NUMBER, LAST_CHANNEL_NUMBER+1)]\n",
    "output_path = f\"../data/Mission{MISSION}-Datasets/dataset_{CHANNELS if CHANNELS == 'allchannels' or CHANNELS == 'target' else f'channels{FIRST_CHANNEL_NUMBER}_{LAST_CHANNEL_NUMBER}'}_{YEAR}.csv\""
   ]
  },
  {
   "cell_type": "code",
   "execution_count": 43,
   "metadata": {},
   "outputs": [],
   "source": [
    "def replace_value_x(value):\n",
    "    match = re.match(r'value_(\\d+)', str(value))\n",
    "    if match:\n",
    "        return int(match.group(1))\n",
    "    return value\n",
    "\n",
    "\n",
    "def get_channel_list(channel_list_path):\n",
    "    return pd.read_csv(channel_list_path).set_index('Channel').T.to_dict()\n",
    "\n",
    "\n",
    "def __list_files_in_data_path(_data_path):\n",
    "    files = os.listdir(_data_path)\n",
    "    return sorted([f for f in files if f.startswith(\"channel_\")], key=lambda x: int(x.split('_')[1]))\n",
    "\n",
    "\n",
    "def __compose_combined_df(start_date, end_date, channels, _data_path):\n",
    "    files = __list_files_in_data_path(_data_path)\n",
    "\n",
    "    # List to store the DataFrames of each channel\n",
    "    dataframes = []\n",
    "    # Read the data of each channel and add them to the list\n",
    "    for channel in files:\n",
    "        # if channel_list[channel][\"Target\"] == \"YES\" or not only_target:\n",
    "        if channels is None or channel in channels:\n",
    "            file_path = f\"{_data_path}/{channel}\"\n",
    "            df = pd.read_pickle(file_path)\n",
    "            df.rename(columns={df.columns[0]: f'{channel}'}, inplace=True)\n",
    "            \n",
    "            # Filter the DataFrame to include only the dates between start_date and end_date\n",
    "            df = df[(df.index >= start_date) & (df.index <= end_date)]\n",
    "\n",
    "            # df = df.applymap(replace_value_x)\n",
    "            df = df.apply(lambda col: col.map(replace_value_x))\n",
    "\n",
    "            dataframes.append(df)\n",
    "\n",
    "    # Combine the DataFrames into one\n",
    "    combined_df = pd.concat(dataframes, axis=1)\n",
    "    combined_df.index.name = \"time\"\n",
    "    return combined_df\n",
    "\n",
    "\n",
    "def get_combined_df(start_date, end_date, channels, output_path, _data_path):\n",
    "    combined_df = __compose_combined_df(start_date, end_date, channels, _data_path)\n",
    "    if output_path is not None:\n",
    "        combined_df.to_csv(output_path, index=True)"
   ]
  },
  {
   "cell_type": "code",
   "execution_count": null,
   "metadata": {},
   "outputs": [],
   "source": [
    "get_combined_df(start_date, end_date, channels_list, output_path, DATA_PATH)\n",
    "print(\"Result save:\", output_path)"
   ]
  }
 ],
 "metadata": {
  "kernelspec": {
   "display_name": "venv",
   "language": "python",
   "name": "python3"
  },
  "language_info": {
   "codemirror_mode": {
    "name": "ipython",
    "version": 3
   },
   "file_extension": ".py",
   "mimetype": "text/x-python",
   "name": "python",
   "nbconvert_exporter": "python",
   "pygments_lexer": "ipython3",
   "version": "3.10.11"
  }
 },
 "nbformat": 4,
 "nbformat_minor": 2
}
