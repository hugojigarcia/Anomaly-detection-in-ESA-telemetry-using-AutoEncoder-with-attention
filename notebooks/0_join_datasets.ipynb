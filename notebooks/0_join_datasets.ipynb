{
 "cells": [
  {
   "cell_type": "markdown",
   "metadata": {},
   "source": [
    "# JOIN DATASETS\n",
    "Notebook para juntar los datos de dos CSVs."
   ]
  },
  {
   "cell_type": "code",
   "execution_count": null,
   "metadata": {},
   "outputs": [],
   "source": [
    "import pandas as pd\n",
    "from libraries.utils import read_csv"
   ]
  },
  {
   "cell_type": "code",
   "execution_count": null,
   "metadata": {},
   "outputs": [],
   "source": [
    "CSV_PATH_1   = '../data/Mission2-Preprocessed/data_preprocessed_allchannels_frequency-previous_2000.csv'\n",
    "CSV_PATH_2   = '../data/Mission2-Preprocessed/data_preprocessed_allchannels_frequency-previous_2001.csv'\n",
    "OUTPUT_PATH = '../data/Mission2-Preprocessed/data_preprocessed_allchannels_frequency-previous_2000_2001.csv'"
   ]
  },
  {
   "cell_type": "code",
   "execution_count": null,
   "metadata": {},
   "outputs": [],
   "source": [
    "# Define date filters for each dataset (set to None if no filter is needed)\n",
    "# start_date1 = '2000-01-01'\n",
    "start_date1 = None\n",
    "# end_date1 = '2000-09-01'\n",
    "end_date1 = None\n",
    "\n",
    "# start_date2 = '2000-07-01'\n",
    "start_date2 = None\n",
    "# end_date2 = '2001-10-01'\n",
    "end_date2 = None\n",
    "\n",
    "# Read the CSV files\n",
    "df1 = read_csv(CSV_PATH_1)\n",
    "df2 = read_csv(CSV_PATH_2)\n",
    "\n",
    "# Filter by date range for df1\n",
    "if start_date1 is not None:\n",
    "    df1 = df1[df1.index >= start_date1]\n",
    "if end_date1 is not None:\n",
    "    df1 = df1[df1.index <= end_date1]\n",
    "\n",
    "# Filter by date range for df2\n",
    "if start_date2 is not None:\n",
    "    df2 = df2[df2.index >= start_date2]\n",
    "if end_date2 is not None:\n",
    "    df2 = df2[df2.index <= end_date2]\n",
    "\n",
    "# Join the two dataframes by index\n",
    "concatenated_df = pd.concat([df1, df2])\n",
    "\n",
    "# Drop duplicate indices, keeping the last occurrence (from df2)\n",
    "deduplicated_df = concatenated_df[~concatenated_df.index.duplicated(keep='last')]\n",
    "\n",
    "# Sort the merged dataframe by index\n",
    "sorted_df = deduplicated_df.sort_index()\n",
    "\n",
    "# Save the result to a new CSV file\n",
    "sorted_df.to_csv(OUTPUT_PATH, index=True, sep=';')\n",
    "\n",
    "print(f\"Merged and sorted CSV saved to: {OUTPUT_PATH}\")\n",
    "print(f\"Number of rows: {sorted_df.shape[0]:,}\")\n",
    "sorted_df"
   ]
  }
 ],
 "metadata": {
  "kernelspec": {
   "display_name": "venv",
   "language": "python",
   "name": "python3"
  },
  "language_info": {
   "codemirror_mode": {
    "name": "ipython",
    "version": 3
   },
   "file_extension": ".py",
   "mimetype": "text/x-python",
   "name": "python",
   "nbconvert_exporter": "python",
   "pygments_lexer": "ipython3",
   "version": "3.10.11"
  }
 },
 "nbformat": 4,
 "nbformat_minor": 2
}
