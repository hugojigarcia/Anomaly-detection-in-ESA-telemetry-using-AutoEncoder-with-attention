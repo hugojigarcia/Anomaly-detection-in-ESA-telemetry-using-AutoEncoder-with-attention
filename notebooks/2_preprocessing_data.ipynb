{
 "cells": [
  {
   "cell_type": "markdown",
   "metadata": {},
   "source": [
    "# PREPROCESSING DATA\n",
    "Notebook para preprocesar los datos de un dataset haciendo interpolación para obtener los datos que faltan."
   ]
  },
  {
   "cell_type": "code",
   "execution_count": 24,
   "metadata": {},
   "outputs": [],
   "source": [
    "import pandas as pd\n",
    "from datetime import datetime\n",
    "from libraries.utils import read_csv, interpolate_dataframe"
   ]
  },
  {
   "cell_type": "code",
   "execution_count": 25,
   "metadata": {},
   "outputs": [],
   "source": [
    "MISSION = 2\n",
    "YEAR = 2000\n",
    "INTERPOLATION_METHOD = [\"linear\", \"nearest\", \"previous\", \"zero-order\", \"frequency-previous\"][4]\n",
    "\n",
    "CHANNELS = [\"allchannels\", \"subset\", \"target\"][2]\n",
    "FIRST_CHANNEL_NUMBER = 18  # Only if CHANNELS == \"subset\"\n",
    "LAST_CHANNEL_NUMBER = 28  # Only if CHANNELS == \"subset\""
   ]
  },
  {
   "cell_type": "code",
   "execution_count": 26,
   "metadata": {},
   "outputs": [],
   "source": [
    "sample_frequency = [\"30s\", \"18s\"][MISSION-1]\n",
    "\n",
    "data_path = f\"../data/Mission{MISSION}-Datasets/dataset_{CHANNELS if CHANNELS == 'allchannels' or CHANNELS == 'target' else f'channels{FIRST_CHANNEL_NUMBER}_{LAST_CHANNEL_NUMBER}'}_{YEAR}.csv\"\n",
    "esa_anomalies_path = f\"../esa-anomalies/anomalies_mission{MISSION}.csv\"\n",
    "\n",
    "start_date = datetime(YEAR, 1, 1, 0, 0, 0)\n",
    "if MISSION == 2 and YEAR == 2003:\n",
    "    end_date = datetime(YEAR, 7, 1, 0, 0, 0)\n",
    "else:\n",
    "    end_date = datetime(YEAR+1, 1, 1, 0, 0, 0)\n",
    "\n",
    "save_path = f\"../data/Mission{MISSION}-Preprocessed/data_preprocessed_{CHANNELS if CHANNELS == 'allchannels' or CHANNELS == 'target' else f'channels{FIRST_CHANNEL_NUMBER}_{LAST_CHANNEL_NUMBER}'}_{INTERPOLATION_METHOD}_{YEAR}.csv\""
   ]
  },
  {
   "cell_type": "code",
   "execution_count": 27,
   "metadata": {},
   "outputs": [],
   "source": [
    "class BBDD:\n",
    "    def __init__(self, data_path: str = \"ESA-data/ESA-Mission1/dataset.csv\", esa_anomalies_path: str = \"notebooks/needed_data/anomalies.csv\"):\n",
    "        self.data_path = data_path\n",
    "        \n",
    "        self.esa_anomalies_path = esa_anomalies_path\n",
    "        self.esa_anomalies = pd.read_csv(esa_anomalies_path)\n",
    "        self.esa_anomalies['StartTime'] = pd.to_datetime(self.esa_anomalies['StartTime'], format='mixed', errors='coerce')\n",
    "        self.esa_anomalies['StartTime'] = self.esa_anomalies['StartTime'].dt.tz_localize(None)\n",
    "        self.esa_anomalies['EndTime'] = pd.to_datetime(self.esa_anomalies['EndTime'], format='mixed', errors='coerce')\n",
    "        self.esa_anomalies['EndTime'] = self.esa_anomalies['EndTime'].dt.tz_localize(None)\n",
    "\n",
    "        self.original_df = read_csv(data_path, sep=',')\n",
    "        self.original_df.index = pd.to_datetime(self.original_df.index)\n",
    "        \n",
    "    \n",
    "    def get_data_between_dates(self, start_date: datetime, end_date: datetime, save_path: str = None) -> pd.DataFrame:\n",
    "        df = self.original_df[(self.original_df.index >= start_date) & (self.original_df.index <= end_date)]\n",
    "        self.save_df_as_csv(df, save_path)\n",
    "        return df\n",
    "    \n",
    "    def get_data_preprocessed_between_dates(self,\n",
    "                                            start_date: datetime,\n",
    "                                            end_date: datetime,\n",
    "                                            save_path: str = None,\n",
    "                                            interpolation_method: str = 'previous',\n",
    "                                            sample_frequency: str = '30s') -> pd.DataFrame:\n",
    "        data = self.get_data_between_dates(start_date, end_date)\n",
    "        interpolated_result = interpolate_dataframe(data,\n",
    "                                                    start_date,\n",
    "                                                    end_date,\n",
    "                                                    self.esa_anomalies,\n",
    "                                                    interpolation_method=interpolation_method,\n",
    "                                                    sample_frequency=sample_frequency)\n",
    "        \n",
    "        self.__check_result_format(interpolated_result)\n",
    "        print('Formato: OK')\n",
    "        print(interpolated_result.shape)\n",
    "        self.save_df_as_csv(interpolated_result, save_path)\n",
    "        return interpolated_result\n",
    "    \n",
    "    \n",
    "    def __check_result_format(self, df: pd.DataFrame):\n",
    "        if not isinstance(df.index, pd.DatetimeIndex):\n",
    "            raise ValueError(\"El índice del DataFrame no es un DateTimeIndex.\")\n",
    "        if df.isnull().any().any():\n",
    "            raise ValueError(\"Hay valores NaN en el DataFrame.\")\n",
    "        if df.index.name != 'time':\n",
    "            raise ValueError(\"El índice debe llamarse time\")\n",
    "    \n",
    "    def save_df_as_csv(self, df: pd.DataFrame, save_path: str):\n",
    "        if save_path is not None:\n",
    "            df.to_csv(save_path, index=True, sep=';')"
   ]
  },
  {
   "cell_type": "code",
   "execution_count": 28,
   "metadata": {},
   "outputs": [],
   "source": [
    "def print_time_difference(interpolated_result):\n",
    "    diffs = interpolated_result.index.to_series().diff().dropna()\n",
    "    diffs_in_seconds = diffs.dt.total_seconds()\n",
    "    min_diff = diffs_in_seconds.min()\n",
    "    max_diff = diffs_in_seconds.max()\n",
    "    mean_diff = diffs_in_seconds.mean()\n",
    "\n",
    "    print(f\"Filas: {len(interpolated_result)}\")\n",
    "    print(f\"Diferencia mínima: {min_diff} segundos\")\n",
    "    print(f\"Diferencia máxima: {max_diff} segundos\")\n",
    "    print(f\"Diferencia media: {mean_diff} segundos\")\n",
    "    print(f\"Diferencia mínima / Diferencia máxima / Diferencia media: \" +\n",
    "          f\"{min_diff:.4f}\".rstrip('0').rstrip('.') + \" / \" +\n",
    "          f\"{max_diff:.4f}\".rstrip('0').rstrip('.') + \" / \" +\n",
    "          f\"{mean_diff:.4f}\".rstrip('0').rstrip('.'))"
   ]
  },
  {
   "cell_type": "code",
   "execution_count": null,
   "metadata": {},
   "outputs": [],
   "source": [
    "bbdd = BBDD(data_path = data_path, esa_anomalies_path=esa_anomalies_path)\n",
    "interpolated_result = bbdd.get_data_preprocessed_between_dates(start_date, end_date, interpolation_method=INTERPOLATION_METHOD, save_path=save_path, sample_frequency=sample_frequency)\n",
    "print(f\"Result stored: {save_path}\")\n",
    "print_time_difference(interpolated_result)"
   ]
  }
 ],
 "metadata": {
  "kernelspec": {
   "display_name": "venv",
   "language": "python",
   "name": "python3"
  },
  "language_info": {
   "codemirror_mode": {
    "name": "ipython",
    "version": 3
   },
   "file_extension": ".py",
   "mimetype": "text/x-python",
   "name": "python",
   "nbconvert_exporter": "python",
   "pygments_lexer": "ipython3",
   "version": "3.10.11"
  }
 },
 "nbformat": 4,
 "nbformat_minor": 2
}
